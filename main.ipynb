{
 "cells": [
  {
   "cell_type": "markdown",
   "metadata": {},
   "source": [
    "# Hidden Markov models - Viterbi Algorithm"
   ]
  },
  {
   "cell_type": "code",
   "execution_count": 16,
   "metadata": {},
   "outputs": [],
   "source": [
    "import math\n",
    "import numpy as np\n",
    "import pandas as pd\n",
    "from collections import defaultdict\n",
    "from utils import get_word_tag, preprocess  \n",
    "from markov import get_counters, get_transition_mat, get_emission_mat"
   ]
  },
  {
   "cell_type": "markdown",
   "metadata": {},
   "source": [
    "Training corpus structure\n",
    "```word\\t\\tag\\n```"
   ]
  },
  {
   "cell_type": "code",
   "execution_count": 2,
   "metadata": {},
   "outputs": [
    {
     "name": "stdout",
     "output_type": "stream",
     "text": [
      "['In\\tIN\\n', 'an\\tDT\\n', 'Oct.\\tNNP\\n', '19\\tCD\\n', 'review\\tNN\\n']\n"
     ]
    }
   ],
   "source": [
    "with open('data/WSJ_02-21.pos', 'r') as f:\n",
    "    training_corpus = f.readlines()\n",
    "\n",
    "print(training_corpus[:5])    "
   ]
  },
  {
   "cell_type": "code",
   "execution_count": 3,
   "metadata": {},
   "outputs": [
    {
     "name": "stdout",
     "output_type": "stream",
     "text": [
      "Some words from raw_vocab\n",
      "From beginning: ['!', '#', '$', '%', '&', \"'\", \"''\", \"'40s\", \"'60s\", \"'70s\"]\n",
      "From end: ['zeros', 'zinc', 'zip', 'zombie', 'zone', 'zones', 'zoning', '{', '}', '']\n"
     ]
    }
   ],
   "source": [
    "with open('data/hmm_vocab.txt', 'r') as f:\n",
    "    raw_vocab = f.read().split('\\n')\n",
    "\n",
    "print('Some words from raw_vocab')\n",
    "print(f'From beginning: {raw_vocab[:10]}')\n",
    "print(f'From end: {raw_vocab[-10:]}')"
   ]
  },
  {
   "cell_type": "markdown",
   "metadata": {},
   "source": [
    "```word -> index``` mapping"
   ]
  },
  {
   "cell_type": "code",
   "execution_count": 4,
   "metadata": {},
   "outputs": [
    {
     "data": {
      "text/plain": [
       "[('', 0),\n",
       " ('!', 1),\n",
       " ('#', 2),\n",
       " ('$', 3),\n",
       " ('%', 4),\n",
       " ('&', 5),\n",
       " (\"'\", 6),\n",
       " (\"''\", 7),\n",
       " (\"'40s\", 8),\n",
       " (\"'60s\", 9)]"
      ]
     },
     "execution_count": 4,
     "metadata": {},
     "output_type": "execute_result"
    }
   ],
   "source": [
    "vocab = {word:i for i, word in enumerate(sorted(raw_vocab))}\n",
    "list(vocab.items())[:10]"
   ]
  },
  {
   "cell_type": "markdown",
   "metadata": {},
   "source": [
    "test corpus structure\n",
    "```word\\t\\tag\\n```"
   ]
  },
  {
   "cell_type": "code",
   "execution_count": 5,
   "metadata": {},
   "outputs": [
    {
     "data": {
      "text/plain": [
       "['The\\tDT\\n', 'economy\\tNN\\n', \"'s\\tPOS\\n\", 'temperature\\tNN\\n', 'will\\tMD\\n']"
      ]
     },
     "execution_count": 5,
     "metadata": {},
     "output_type": "execute_result"
    }
   ],
   "source": [
    "with open(\"data/WSJ_24.pos\", 'r') as f:\n",
    "    test_corpus = f.readlines()\n",
    "test_corpus[:5]"
   ]
  },
  {
   "cell_type": "markdown",
   "metadata": {},
   "source": [
    "preprocess all words by:\n",
    "1) if end of line, return --n--\n",
    "2) if word valid but not in vocab, return most meaningful tag \n",
    "3) if word valid and in vocab, return word"
   ]
  },
  {
   "cell_type": "code",
   "execution_count": 6,
   "metadata": {},
   "outputs": [
    {
     "data": {
      "text/plain": [
       "(['The',\n",
       "  'economy',\n",
       "  \"'s\",\n",
       "  'temperature',\n",
       "  'will',\n",
       "  'be',\n",
       "  'taken',\n",
       "  'from',\n",
       "  'several',\n",
       "  'vantage',\n",
       "  'points',\n",
       "  'this',\n",
       "  'week',\n",
       "  ',',\n",
       "  'with',\n",
       "  'readings',\n",
       "  'on',\n",
       "  'trade',\n",
       "  ',',\n",
       "  'output'],\n",
       " ['The',\n",
       "  'economy',\n",
       "  \"'s\",\n",
       "  'temperature',\n",
       "  'will',\n",
       "  'be',\n",
       "  'taken',\n",
       "  'from',\n",
       "  'several',\n",
       "  '--unk--',\n",
       "  'points',\n",
       "  'this',\n",
       "  'week',\n",
       "  ',',\n",
       "  'with',\n",
       "  'readings',\n",
       "  'on',\n",
       "  'trade',\n",
       "  ',',\n",
       "  'output'])"
      ]
     },
     "execution_count": 6,
     "metadata": {},
     "output_type": "execute_result"
    }
   ],
   "source": [
    "orig, prep = preprocess(vocab, \"data/test.words\")     \n",
    "orig[:20], prep[:20]"
   ]
  },
  {
   "cell_type": "code",
   "execution_count": 7,
   "metadata": {},
   "outputs": [],
   "source": [
    "emission_counts, transition_counts, tag_counts = get_counters(training_corpus, vocab)"
   ]
  },
  {
   "cell_type": "markdown",
   "metadata": {},
   "source": [
    "#### Transition Counts\n",
    "\n",
    "Transition counts structure: {(prev_tag, tag), count}\n",
    "\n",
    "This counter dictionary provides to tuple -> counter. \n",
    "Tuple first item is previous tag and the second one is the tag that followed by first one.\n",
    "\n",
    "You can think the counter array as: \n",
    "* rows <-> all tags that represent previous tag \n",
    "* columns <-> all tags that comes after the previous tag\n",
    "\n",
    "This dictionary helps us to create transition matrix."
   ]
  },
  {
   "cell_type": "code",
   "execution_count": 8,
   "metadata": {},
   "outputs": [
    {
     "name": "stdout",
     "output_type": "stream",
     "text": [
      "Length of transition counts: 1421\n"
     ]
    },
    {
     "data": {
      "text/plain": [
       "[(('--s--', 'IN'), 5050),\n",
       " (('IN', 'DT'), 32364),\n",
       " (('DT', 'NNP'), 9044),\n",
       " (('NNP', 'CD'), 1752),\n",
       " (('CD', 'NN'), 7377),\n",
       " (('NN', 'IN'), 32885),\n",
       " (('IN', '``'), 546),\n",
       " (('``', 'DT'), 1014),\n",
       " (('DT', 'NN'), 38873),\n",
       " (('NN', \"''\"), 686)]"
      ]
     },
     "execution_count": 8,
     "metadata": {},
     "output_type": "execute_result"
    }
   ],
   "source": [
    "print(f'Length of transition counts: {len(transition_counts)}')\n",
    "list(transition_counts.items())[:10]"
   ]
  },
  {
   "cell_type": "markdown",
   "metadata": {},
   "source": [
    "#### Emission counts\n",
    "\n",
    "Emission counts gives us the word counter if the tag is given. \n",
    "You can think the counter array as: \n",
    "* rows <-> tags\n",
    "* columns <-> words"
   ]
  },
  {
   "cell_type": "code",
   "execution_count": 9,
   "metadata": {},
   "outputs": [
    {
     "name": "stdout",
     "output_type": "stream",
     "text": [
      "Length of emission counts: 31140\n",
      "[(('IN', 'In'), 1735), (('DT', 'an'), 3142), (('NNP', 'Oct.'), 317), (('CD', '19'), 100), (('NN', 'review'), 36), (('IN', 'of'), 22925), (('``', '``'), 6967), (('DT', 'The'), 6795), (('NN', 'Misanthrope'), 3), ((\"''\", \"''\"), 6787)]\n"
     ]
    }
   ],
   "source": [
    "print(f'Length of emission counts: {len(emission_counts)}')\n",
    "print(list(emission_counts.items())[:10])"
   ]
  },
  {
   "cell_type": "markdown",
   "metadata": {},
   "source": [
    "As you can see below, If the given tag is determiner -DT-, there are tons of words that might be. "
   ]
  },
  {
   "cell_type": "code",
   "execution_count": 10,
   "metadata": {},
   "outputs": [
    {
     "name": "stdout",
     "output_type": "stream",
     "text": [
      "('DT', 'an') 3142\n",
      "('DT', 'The') 6795\n",
      "('DT', 'the') 41098\n",
      "('DT', 'a') 19264\n",
      "('DT', 'A') 817\n",
      "('DT', 'some') 1274\n",
      "('DT', 'this') 1897\n",
      "('DT', 'any') 721\n",
      "('DT', 'those') 505\n",
      "('DT', 'Both') 99\n",
      "('DT', 'Some') 314\n",
      "('DT', 'no') 606\n",
      "('DT', 'An') 141\n",
      "('DT', 'Either') 3\n",
      "('DT', 'This') 398\n",
      "('DT', 'these') 417\n",
      "('DT', 'another') 351\n",
      "('DT', 'that') 1168\n",
      "('DT', 'That') 412\n",
      "('DT', 'each') 356\n",
      "('DT', 'every') 171\n",
      "('DT', 'all') 842\n",
      "('DT', 'No') 82\n",
      "('DT', 'both') 336\n",
      "('DT', 'These') 139\n",
      "('DT', 'Another') 72\n",
      "('DT', 'Those') 66\n",
      "('DT', 'Each') 57\n",
      "('DT', 'Any') 18\n",
      "('DT', 'All') 82\n",
      "('DT', 'THE') 35\n",
      "('DT', 'either') 50\n",
      "('DT', 'many') 14\n",
      "('DT', 'Every') 20\n",
      "('DT', 'neither') 18\n",
      "('DT', 'NO') 2\n",
      "('DT', 'half') 31\n",
      "('DT', 'Many') 2\n",
      "('DT', 'Neither') 13\n",
      "('DT', 'nary') 1\n",
      "('DT', 'AN') 6\n",
      "('DT', 'them') 1\n",
      "('DT', 'la') 2\n",
      "('DT', 'Half') 1\n",
      "('DT', '--unk_upper--') 2\n",
      "('DT', 'del') 1\n"
     ]
    }
   ],
   "source": [
    "for tuple, count in list(emission_counts.items()):\n",
    "    if tuple[0] == 'DT':\n",
    "        print(tuple, count)"
   ]
  },
  {
   "cell_type": "markdown",
   "metadata": {},
   "source": [
    "Also it can be seen, There are ambigious words. If the given word Part of Speec Tag is `RB`, the number of times that `back` word is 304. However for `VB` is 20. \n"
   ]
  },
  {
   "cell_type": "code",
   "execution_count": 11,
   "metadata": {},
   "outputs": [
    {
     "name": "stdout",
     "output_type": "stream",
     "text": [
      "('RB', 'back') 304\n",
      "('VB', 'back') 20\n",
      "('RP', 'back') 84\n",
      "('JJ', 'back') 25\n",
      "('NN', 'back') 29\n",
      "('VBP', 'back') 4\n"
     ]
    }
   ],
   "source": [
    "for tuple, count in list(emission_counts.items()):\n",
    "    if tuple[1] == 'back':\n",
    "        print(tuple, count)"
   ]
  },
  {
   "cell_type": "markdown",
   "metadata": {},
   "source": [
    "There is 46 Part of Speech Tag available in our corpus. "
   ]
  },
  {
   "cell_type": "code",
   "execution_count": 12,
   "metadata": {},
   "outputs": [
    {
     "name": "stdout",
     "output_type": "stream",
     "text": [
      "Number of POS tags (number of 'states'): 46\n",
      "Let's see these states:\n",
      "['#', '$', \"''\", '(', ')', ',', '--s--', '.', ':', 'CC', 'CD', 'DT', 'EX', 'FW', 'IN', 'JJ', 'JJR', 'JJS', 'LS', 'MD', 'NN', 'NNP', 'NNPS', 'NNS', 'PDT', 'POS', 'PRP', 'PRP$', 'RB', 'RBR', 'RBS', 'RP', 'SYM', 'TO', 'UH', 'VB', 'VBD', 'VBG', 'VBN', 'VBP', 'VBZ', 'WDT', 'WP', 'WP$', 'WRB', '``']\n"
     ]
    }
   ],
   "source": [
    "states = sorted(tag_counts.keys())\n",
    "print(f\"Number of POS tags (number of 'states'): {len(states)}\")\n",
    "print(\"Let's see these states:\")\n",
    "print(states)"
   ]
  },
  {
   "cell_type": "code",
   "execution_count": 13,
   "metadata": {},
   "outputs": [
    {
     "name": "stdout",
     "output_type": "stream",
     "text": [
      "A at row 0, col 0: 0.000007040\n",
      "A at row 3, col 1: 0.1691\n"
     ]
    }
   ],
   "source": [
    "alpha = 0.001\n",
    "A = get_transition_mat(transition_counts, tag_counts, alpha)\n",
    "\n",
    "print(f\"A at row 0, col 0: {A[0,0]:.9f}\")\n",
    "print(f\"A at row 3, col 1: {A[3,1]:.4f}\")"
   ]
  },
  {
   "cell_type": "code",
   "execution_count": 17,
   "metadata": {},
   "outputs": [
    {
     "data": {
      "text/html": [
       "<div>\n",
       "<style scoped>\n",
       "    .dataframe tbody tr th:only-of-type {\n",
       "        vertical-align: middle;\n",
       "    }\n",
       "\n",
       "    .dataframe tbody tr th {\n",
       "        vertical-align: top;\n",
       "    }\n",
       "\n",
       "    .dataframe thead th {\n",
       "        text-align: right;\n",
       "    }\n",
       "</style>\n",
       "<table border=\"1\" class=\"dataframe\">\n",
       "  <thead>\n",
       "    <tr style=\"text-align: right;\">\n",
       "      <th></th>\n",
       "      <th>RBS</th>\n",
       "      <th>RP</th>\n",
       "      <th>SYM</th>\n",
       "      <th>TO</th>\n",
       "      <th>UH</th>\n",
       "    </tr>\n",
       "  </thead>\n",
       "  <tbody>\n",
       "    <tr>\n",
       "      <th>RBS</th>\n",
       "      <td>2.217069e-06</td>\n",
       "      <td>2.217069e-06</td>\n",
       "      <td>2.217069e-06</td>\n",
       "      <td>0.008870</td>\n",
       "      <td>2.217069e-06</td>\n",
       "    </tr>\n",
       "    <tr>\n",
       "      <th>RP</th>\n",
       "      <td>3.756509e-07</td>\n",
       "      <td>7.516775e-04</td>\n",
       "      <td>3.756509e-07</td>\n",
       "      <td>0.051089</td>\n",
       "      <td>3.756509e-07</td>\n",
       "    </tr>\n",
       "    <tr>\n",
       "      <th>SYM</th>\n",
       "      <td>1.722772e-05</td>\n",
       "      <td>1.722772e-05</td>\n",
       "      <td>1.722772e-05</td>\n",
       "      <td>0.000017</td>\n",
       "      <td>1.722772e-05</td>\n",
       "    </tr>\n",
       "    <tr>\n",
       "      <th>TO</th>\n",
       "      <td>4.477336e-05</td>\n",
       "      <td>4.472863e-08</td>\n",
       "      <td>4.472863e-08</td>\n",
       "      <td>0.000090</td>\n",
       "      <td>4.477336e-05</td>\n",
       "    </tr>\n",
       "    <tr>\n",
       "      <th>UH</th>\n",
       "      <td>1.030439e-05</td>\n",
       "      <td>1.030439e-05</td>\n",
       "      <td>1.030439e-05</td>\n",
       "      <td>0.061837</td>\n",
       "      <td>3.092348e-02</td>\n",
       "    </tr>\n",
       "  </tbody>\n",
       "</table>\n",
       "</div>"
      ],
      "text/plain": [
       "              RBS            RP           SYM        TO            UH\n",
       "RBS  2.217069e-06  2.217069e-06  2.217069e-06  0.008870  2.217069e-06\n",
       "RP   3.756509e-07  7.516775e-04  3.756509e-07  0.051089  3.756509e-07\n",
       "SYM  1.722772e-05  1.722772e-05  1.722772e-05  0.000017  1.722772e-05\n",
       "TO   4.477336e-05  4.472863e-08  4.472863e-08  0.000090  4.477336e-05\n",
       "UH   1.030439e-05  1.030439e-05  1.030439e-05  0.061837  3.092348e-02"
      ]
     },
     "execution_count": 17,
     "metadata": {},
     "output_type": "execute_result"
    }
   ],
   "source": [
    "pd.DataFrame(A[30:35,30:35], index=states[30:35], columns = states[30:35] )"
   ]
  },
  {
   "cell_type": "code",
   "execution_count": 19,
   "metadata": {},
   "outputs": [
    {
     "name": "stdout",
     "output_type": "stream",
     "text": [
      "View Matrix position at row 0, column 0: 0.000006032\n",
      "View Matrix position at row 3, column 1: 0.000000720\n"
     ]
    }
   ],
   "source": [
    "B = get_emission_mat(emission_counts, tag_counts, list(vocab), alpha)\n",
    "emission_counts, tag_counts, vocab, alpha\n",
    "\n",
    "print(f\"View Matrix position at row 0, column 0: {B[0,0]:.9f}\")\n",
    "print(f\"View Matrix position at row 3, column 1: {B[3,1]:.9f}\")"
   ]
  },
  {
   "cell_type": "code",
   "execution_count": null,
   "metadata": {},
   "outputs": [
    {
     "name": "stdout",
     "output_type": "stream",
     "text": [
      "              725      adroitly     engineers      promoted       synergy\n",
      "CD   8.201296e-05  2.732854e-08  2.732854e-08  2.732854e-08  2.732854e-08\n",
      "NN   7.521128e-09  7.521128e-09  7.521128e-09  7.521128e-09  2.257091e-05\n",
      "NNS  1.670013e-08  1.670013e-08  4.676203e-04  1.670013e-08  1.670013e-08\n",
      "VB   3.779036e-08  3.779036e-08  3.779036e-08  3.779036e-08  3.779036e-08\n",
      "RB   3.226454e-08  6.456135e-05  3.226454e-08  3.226454e-08  3.226454e-08\n",
      "RP   3.723317e-07  3.723317e-07  3.723317e-07  3.723317e-07  3.723317e-07\n"
     ]
    }
   ],
   "source": [
    "cidx  = ['725','adroitly','engineers', 'promoted', 'synergy']\n",
    "\n",
    "# Get the integer ID for each word\n",
    "cols = [vocab[a] for a in cidx]\n",
    "\n",
    "rvals =['CD','NN','NNS', 'VB','RB','RP']\n",
    "\n",
    "# For each POS tag, get the row number from the 'states' list\n",
    "rows = [states.index(a) for a in rvals]\n",
    "\n",
    "# Get the emissions for the sample of words, and the sample of POS tags\n",
    "B_sub = pd.DataFrame(B[np.ix_(rows,cols)], index=rvals, columns = cidx )\n",
    "print(B_sub)  "
   ]
  },
  {
   "cell_type": "code",
   "execution_count": null,
   "metadata": {},
   "outputs": [],
   "source": []
  }
 ],
 "metadata": {
  "kernelspec": {
   "display_name": "gen",
   "language": "python",
   "name": "python3"
  },
  "language_info": {
   "codemirror_mode": {
    "name": "ipython",
    "version": 3
   },
   "file_extension": ".py",
   "mimetype": "text/x-python",
   "name": "python",
   "nbconvert_exporter": "python",
   "pygments_lexer": "ipython3",
   "version": "3.12.7"
  }
 },
 "nbformat": 4,
 "nbformat_minor": 2
}
